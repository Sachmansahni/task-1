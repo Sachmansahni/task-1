{
 "cells": [
  {
   "cell_type": "code",
   "execution_count": 3,
   "metadata": {},
   "outputs": [
    {
     "name": "stdout",
     "output_type": "stream",
     "text": [
      "Enter no. of rows2\n",
      "Enter no. of columns3\n",
      "Enter the element:1 \n",
      "Enter the element:2\n",
      "Enter the element:3\n",
      "Enter the element:4\n",
      "Enter the element:5\n",
      "Enter the element:6\n",
      "1 2 3 \n",
      "4 5 6 \n"
     ]
    }
   ],
   "source": [
    "r=int(input(\"Enter no. of rows: \"))\n",
    "c=int(input(\"Enter no. of columns: \"))\n",
    "mat=[]\n",
    "for i in range(r):\n",
    "    mat.append([])\n",
    "    for j in range(c):\n",
    "        x=int(input(\"Enter the element: \"))\n",
    "        mat[i].append(x)\n",
    "        \n",
    "for i in range(r):\n",
    "    for j in range(c):\n",
    "        print(mat[i][j], end=\" \")\n",
    "    print()"
   ]
  },
  {
   "cell_type": "code",
   "execution_count": 1,
   "metadata": {},
   "outputs": [
    {
     "name": "stdout",
     "output_type": "stream",
     "text": [
      "Enter no. of rows: 2\n",
      "Enter no. of columns: 2\n",
      "For matrix 1: \n",
      "Enter the element: 3\n",
      "Enter the element: 2\n",
      "Enter the element: 3\n",
      "Enter the element: 2\n",
      "For matrix 2: \n",
      "Enter the element: 3\n",
      "Enter the element: 4\n",
      "Enter the element: 3\n",
      "Enter the element: 2\n",
      "Matrix after sum: \n",
      "6 6 \n",
      "6 4 \n"
     ]
    }
   ],
   "source": [
    "#QUESTION 1\n",
    "\n",
    "r=int(input(\"Enter no. of rows: \"))\n",
    "c=int(input(\"Enter no. of columns: \"))\n",
    "print(\"For matrix 1: \")\n",
    "mat1=[]\n",
    "for i in range(r):\n",
    "    mat1.append([])\n",
    "    for j in range(c):\n",
    "        x=int(input(\"Enter the element: \"))\n",
    "        mat1[i].append(x)\n",
    "\n",
    "print(\"For matrix 2: \")\n",
    "mat2=[]\n",
    "for i in range(r):\n",
    "    mat2.append([])\n",
    "    for j in range(c):\n",
    "        x=int(input(\"Enter the element: \"))\n",
    "        mat2[i].append(x)\n",
    "        \n",
    "sumMat=[]\n",
    "\n",
    "for i in range(r):\n",
    "    sumMat.append([])\n",
    "    for j in range(c):\n",
    "        sumMat[i].append(0) #initial sum in each cell of result matrix will be 0 \n",
    "        \n",
    "        \n",
    "for i in range(r):\n",
    "    for j in range(c):\n",
    "        sumMat[i][j]=mat1[i][j]+mat2[i][j]\n",
    "\n",
    "print(\"Matrix after sum: \")\n",
    "for i in range(r):\n",
    "    for j in range(c):\n",
    "        print(sumMat[i][j], end=\" \")\n",
    "    print()"
   ]
  },
  {
   "cell_type": "code",
   "execution_count": null,
   "metadata": {},
   "outputs": [],
   "source": [
    "### QUESTION 2\n",
    "\n",
    "#for matrix multiplication-- no. of columns of 1st matrix should be equal to no. of rows of 2nd mmatrix\n",
    "print(\"For matrix 1: \")\n",
    "r1=int(input(\"Enter no. of rows in Matrix 1: \"))\n",
    "c1=int(input(\"Enter no. of columns Matrix 1: \"))\n",
    "mat1=[]\n",
    "for i in range(r1):\n",
    "    mat1.append([])\n",
    "    for j in range(c1):\n",
    "        x=int(input(\"Enter the element: \"))\n",
    "        mat1[i].append(x)\n",
    "\n",
    "print(\"For matrix 2: \")\n",
    "r2=int(input(\"Enter no. of rows in Matrix 2: \"))\n",
    "c2=int(input(\"Enter no. of columns Matrix 2: \"))\n",
    "mat2=[]\n",
    "for i in range(r2):\n",
    "    mat2.append([])\n",
    "    for j in range(c2):\n",
    "        x=int(input(\"Enter the element: \"))\n",
    "        mat2[i].append(x)\n",
    "\n",
    "prodMat=[]\n",
    "\n",
    "for i in range(r1):\n",
    "    prodMat.append([])\n",
    "    for j in range(c2):\n",
    "        prodMat[i].append(0)  #initial product in each cell of result matrix will be 0 \n",
    "        \n",
    "        \n",
    "for i in range(r1):\n",
    "    for j in range(c2):\n",
    "        for k in range(r2):\n",
    "            prodMat[i][j]=prodMat[i][j] + ((mat1[i][k])*(mat2[k][j]))\n",
    "\n",
    "print(\"Matrix after product: \")\n",
    "for i in range(r1):\n",
    "    for j in range(c2):\n",
    "        print(prodMat[i][j], end=\" \")\n",
    "    print()"
   ]
  },
  {
   "cell_type": "code",
   "execution_count": null,
   "metadata": {},
   "outputs": [],
   "source": [
    "##### QUESTION 3\n",
    "\n",
    "m=int(input(\"Enter no. of rows: \"))\n",
    "n=int(input(\"Enter no. of columns: \"))\n",
    "mat=[]\n",
    "for i in range(m):\n",
    "    mat.append([])\n",
    "    for j in range(n):\n",
    "        x=int(input(\"Enter the element:\"))\n",
    "        mat[i].append(x)\n",
    "        \n",
    "for i in range(m):\n",
    "    sum=0\n",
    "    for j in range(n):\n",
    "        sum=sum+mat[i][j]\n",
    "    print(\"Sum of row\", i+1 , \" = \" , sum)"
   ]
  },
  {
   "cell_type": "code",
   "execution_count": 18,
   "metadata": {},
   "outputs": [
    {
     "name": "stdout",
     "output_type": "stream",
     "text": [
      "Enter value of n3\n",
      "0 0 1 \n",
      "0 1 2 \n",
      "1 2 2 \n"
     ]
    }
   ],
   "source": [
    "#QUESTION 4\n",
    "\n",
    "n=int(input(\"Enter value of n: \"))\n",
    "\n",
    "mat=[]\n",
    "for i in range(n):\n",
    "    mat.append([])\n",
    "    for j in range(n):\n",
    "        if((i+j)<(n-1)):\n",
    "            mat[i].append(0)\n",
    "        elif(i+j==(n-1)):\n",
    "            mat[i].append(1)\n",
    "        else:\n",
    "            mat[i].append(2)\n",
    "\n",
    "for i in range(n):\n",
    "    for j in range(n):\n",
    "        print(mat[i][j], end=\" \")\n",
    "    print()\n",
    "            \n",
    "            "
   ]
  },
  {
   "cell_type": "code",
   "execution_count": 21,
   "metadata": {
    "scrolled": true
   },
   "outputs": [
    {
     "name": "stdout",
     "output_type": "stream",
     "text": [
      "Enter no. of rows3 \n",
      "Enter no. of columns4\n",
      "Enter the element:11\n",
      "Enter the element:12\n",
      "Enter the element:13\n",
      "Enter the element:14\n",
      "Enter the element:21\n",
      "Enter the element:22\n",
      "Enter the element:23\n",
      "Enter the element:24\n",
      "Enter the element:31\n",
      "Enter the element:32\n",
      "Enter the element:33\n",
      "Enter the element:34\n",
      "Enter value of i0\n",
      "Enter value of j1\n",
      "12 11 13 14 \n",
      "22 21 23 24 \n",
      "32 31 33 34 \n"
     ]
    }
   ],
   "source": [
    "#QUESTION 5\n",
    "\n",
    "m=int(input(\"Enter no. of rows: \"))\n",
    "n=int(input(\"Enter no. of columns: \"))\n",
    "mat=[]\n",
    "for i in range(m):\n",
    "    mat.append([])\n",
    "    for j in range(n):\n",
    "        x=int(input(\"Enter the element: \"))\n",
    "        mat[i].append(x)\n",
    "\n",
    "i=int(input(\"Enter value of i: \"))\n",
    "j=int(input(\"Enter value of j: \"))\n",
    "\n",
    "for r in range(m):\n",
    "    for c in range(n):\n",
    "        if(c==i):\n",
    "            temp=mat[r][i]\n",
    "            mat[r][i]=mat[r][j]\n",
    "            mat[r][j]=temp\n",
    "            \n",
    "for i in range(m):\n",
    "    for j in range(n):\n",
    "        print(mat[i][j], end=\" \")\n",
    "    print()"
   ]
  },
  {
   "cell_type": "code",
   "execution_count": 3,
   "metadata": {},
   "outputs": [
    {
     "name": "stdout",
     "output_type": "stream",
     "text": [
      "list1[ 0 ]= 1\n",
      "list1[ 1 ]= b\n",
      "list1[ 2 ]= b\n",
      "list1[ 3 ]= 3\n",
      "list1[ 4 ]= 4\n",
      "list1[ 5 ]= [1, 2, 3, 4]\n"
     ]
    }
   ],
   "source": [
    "list1=[1,'b','b',3,4,[1,2,3,4]]\n",
    "i=0\n",
    "while i<(lenist1)):\n",
    "    print(\"list1[\",i,\"]=\",list1[i])\n",
    "    i=i+1"
   ]
  },
  {
   "cell_type": "code",
   "execution_count": 9,
   "metadata": {},
   "outputs": [
    {
     "name": "stdout",
     "output_type": "stream",
     "text": [
      "[0, 1, 8, 27, 64, 125, 216, 343, 512, 729, 1000, 1331, 1728, 2197, 2744, 3375, 4096, 4913, 5832, 6859, 8000, 9261, 10648, 12167, 13824, 15625, 17576, 19683, 21952, 24389, 27000, 29791, 32768, 35937, 39304, 42875, 46656, 50653, 54872, 59319, 64000, 68921, 74088, 79507, 85184, 91125, 97336, 103823, 110592, 117649, 125000, 132651, 140608, 148877, 157464, 166375, 175616, 185193, 195112, 205379, 216000, 226981, 238328, 250047, 262144, 274625, 287496, 300763, 314432, 328509, 343000, 357911, 373248, 389017, 405224, 421875, 438976, 456533, 474552, 493039, 512000, 531441, 551368, 571787, 592704, 614125, 636056, 658503, 681472, 704969, 729000, 753571, 778688, 804357, 830584, 857375, 884736, 912673, 941192, 970299, 1000000]\n"
     ]
    }
   ],
   "source": [
    "cube=[]\n",
    "for i in range (101):\n",
    "    cube.append(i**3)\n",
    "print(cube)"
   ]
  },
  {
   "cell_type": "code",
   "execution_count": 10,
   "metadata": {},
   "outputs": [
    {
     "name": "stdout",
     "output_type": "stream",
     "text": [
      "[(10, 14), (10, 16), (10, 18), (10, 20), (12, 14), (12, 16), (12, 18), (12, 20), (14, 16), (14, 18), (14, 20), (16, 14), (16, 18), (16, 20)]\n"
     ]
    }
   ],
   "source": [
    "print([(x,y) for x in [10,12,14,16] for y in [14,16,18,20] if x!=y])"
   ]
  },
  {
   "cell_type": "code",
   "execution_count": 13,
   "metadata": {},
   "outputs": [
    {
     "name": "stdout",
     "output_type": "stream",
     "text": [
      "[2, 4, 6, 8, 10, 12, 14, 16, 18, 20]\n"
     ]
    }
   ],
   "source": [
    "def check (x):\n",
    "    if (x%2==0 or x%4==0):\n",
    "        return 1\n",
    "even =list(filter(chec.k,range(2,22)))\n",
    "print(even)"
   ]
  },
  {
   "cell_type": "code",
   "execution_count": 18,
   "metadata": {},
   "outputs": [
    {
     "name": "stdout",
     "output_type": "stream",
     "text": [
      "[12, 24, 36, 48, 60, 72, 84, 96]\n"
     ]
    }
   ],
   "source": [
    "def check (x):\n",
    "    if (x%2==0 and x%4==0 and x%6==0):\n",
    "        return 1\n",
    "even =list(filter(check,range(2,100)))\n",
    "print(even)"
   ]
  },
  {
   "cell_type": "code",
   "execution_count": 14,
   "metadata": {},
   "outputs": [
    {
     "name": "stdout",
     "output_type": "stream",
     "text": [
      "[4, 8, 12, 16, 20]\n"
     ]
    }
   ],
   "source": [
    "def check (x):\n",
    "    if (x%2==0 and x%4==0):\n",
    "        return 1\n",
    "even =list(filter(check,range(2,22)))\n",
    "print(even)"
   ]
  },
  {
   "cell_type": "code",
   "execution_count": 24,
   "metadata": {},
   "outputs": [
    {
     "name": "stdout",
     "output_type": "stream",
     "text": [
      "[10, 11, 12, 13, 14, 15, 16, 17, 18, 19]\n"
     ]
    }
   ],
   "source": [
    "list1=[]\n",
    "for i in range(10):\n",
    "    list1.append(i+10)\n",
    "    \n",
    "print(list1)"
   ]
  },
  {
   "cell_type": "code",
   "execution_count": 28,
   "metadata": {},
   "outputs": [
    {
     "name": "stdout",
     "output_type": "stream",
     "text": [
      "[20, 25, 35, 40]\n"
     ]
    }
   ],
   "source": [
    "list1=[10,15,25,30]\n",
    "def add(x):\n",
    "    x=x+10\n",
    "    return x\n",
    "newlist=list(map(add,list1\n",
    "                8))\n",
    "print(newlist)\n"
   ]
  },
  {
   "cell_type": "code",
   "execution_count": 8,
   "metadata": {},
   "outputs": [
    {
     "name": "stdout",
     "output_type": "stream",
     "text": [
      "4\n",
      "03\n",
      "14\n",
      "23\n",
      "32\n"
     ]
    }
   ],
   "source": [
    "n=int(input())\n",
    "for i in range(n):\n",
    "    a=int(input(i))\n",
    "    \n"
   ]
  },
  {
   "cell_type": "code",
   "execution_count": 3,
   "metadata": {},
   "outputs": [
    {
     "name": "stdout",
     "output_type": "stream",
     "text": [
      "enter no of rows3\n",
      "enter no of columns3\n",
      "4\n",
      "3\n",
      "2\n",
      "3\n",
      "4\n",
      "5\n",
      "4\n",
      "3\n",
      "2\n",
      "4 3 2 \n",
      "3 4 5 \n",
      "4 3 2 \n"
     ]
    }
   ],
   "source": [
    "r=int(input(\"enter no of rows\"))\n",
    "c=int(input(\"enter no of columns\"))\n",
    "mat=[]\n",
    "for i in range(r):\n",
    "    mat.append([])\n",
    "    for j in range(c):\n",
    "        b=int(input())\n",
    "        mat[i].append(b)\n",
    "        \n",
    "for i in range(r):\n",
    "    for j in range(c):\n",
    "        print(mat[i][j],end=\" \")\n",
    "    print()"
   ]
  },
  {
   "cell_type": "code",
   "execution_count": null,
   "metadata": {},
   "outputs": [],
   "source": []
  },
  {
   "cell_type": "code",
   "execution_count": null,
   "metadata": {},
   "outputs": [],
   "source": []
  },
  {
   "cell_type": "code",
   "execution_count": null,
   "metadata": {},
   "outputs": [],
   "source": []
  },
  {
   "cell_type": "code",
   "execution_count": null,
   "metadata": {},
   "outputs": [],
   "source": []
  },
  {
   "cell_type": "code",
   "execution_count": null,
   "metadata": {},
   "outputs": [],
   "source": []
  }
 ],
 "metadata": {
  "kernelspec": {
   "display_name": "Python 3 (ipykernel)",
   "language": "python",
   "name": "python3"
  },
  "language_info": {
   "codemirror_mode": {
    "name": "ipython",
    "version": 3
   },
   "file_extension": ".py",
   "mimetype": "text/x-python",
   "name": "python",
   "nbconvert_exporter": "python",
   "pygments_lexer": "ipython3",
   "version": "3.9.12"
  }
 },
 "nbformat": 4,
 "nbformat_minor": 4
}
